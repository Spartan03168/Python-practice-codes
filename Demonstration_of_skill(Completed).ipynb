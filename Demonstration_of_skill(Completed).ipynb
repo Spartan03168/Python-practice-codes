{
  "nbformat": 4,
  "nbformat_minor": 0,
  "metadata": {
    "colab": {
      "name": "Demonstration of skill(Completed).ipynb",
      "provenance": [],
      "collapsed_sections": [],
      "authorship_tag": "ABX9TyORUAF4vh/4mRrXsJv3pqSp",
      "include_colab_link": true
    },
    "kernelspec": {
      "name": "python3",
      "display_name": "Python 3"
    },
    "language_info": {
      "name": "python"
    }
  },
  "cells": [
    {
      "cell_type": "markdown",
      "metadata": {
        "id": "view-in-github",
        "colab_type": "text"
      },
      "source": [
        "<a href=\"https://colab.research.google.com/github/Spartan03168/Python-practice-codes/blob/main/Demonstration_of_skill(Completed).ipynb\" target=\"_parent\"><img src=\"https://colab.research.google.com/assets/colab-badge.svg\" alt=\"Open In Colab\"/></a>"
      ]
    },
    {
      "cell_type": "markdown",
      "source": [
        "Demonstration of improvement"
      ],
      "metadata": {
        "id": "duwfUj5k8Ie0"
      }
    },
    {
      "cell_type": "code",
      "execution_count": null,
      "metadata": {
        "colab": {
          "base_uri": "https://localhost:8080/",
          "height": 130
        },
        "id": "P3DRw4ml8H5c",
        "outputId": "e11af45b-3c5f-41f3-db21-c496cb9d8ae0"
      },
      "outputs": [
        {
          "output_type": "error",
          "ename": "IndentationError",
          "evalue": "ignored",
          "traceback": [
            "\u001b[0;36m  File \u001b[0;32m\"<ipython-input-30-9980966eea23>\"\u001b[0;36m, line \u001b[0;32m14\u001b[0m\n\u001b[0;31m    def dictionary_evidence():\u001b[0m\n\u001b[0m      ^\u001b[0m\n\u001b[0;31mIndentationError\u001b[0m\u001b[0;31m:\u001b[0m expected an indented block\n"
          ]
        }
      ],
      "source": [
        "def start_point():\n",
        "    print(\"May the games beguin\")\n",
        "\n",
        "def end_point():\n",
        "    print(\"Freedom has more value than any one individual can quantify\")\n",
        "\n",
        "def while_loop_demostration():\n",
        "    #call it \"environment habitibility analysis\" \n",
        "    #atmospheric analysis\n",
        "    #radiation analysis\n",
        "    #temperature analysis\n",
        "    #random analysis of something i come up with in that moment\n",
        "\n"
      ]
    },
    {
      "cell_type": "markdown",
      "source": [
        "List comprehension"
      ],
      "metadata": {
        "id": "pUHpbk15AxSP"
      }
    },
    {
      "cell_type": "code",
      "source": [
        "def identities():\n",
        "    gods=[\"Thor\",\"Odin\",\"Hela\"]\n",
        "    dead_gods=[]\n",
        "    for i in gods:\n",
        "        dead_gods.append(i)\n",
        "    print(\"Original:\")\n",
        "    print(dead_gods)\n",
        "\n",
        "identities()\n",
        "\n",
        "def identities_with_comprehension():\n",
        "    gods = [\"Thor\", \"Odin\", \"Hela\"]\n",
        "    dead_gods=[i for i in gods]\n",
        "    print(\"List comprehension implementation:\")\n",
        "    print(dead_gods)\n",
        "\n",
        "identities_with_comprehension()"
      ],
      "metadata": {
        "colab": {
          "base_uri": "https://localhost:8080/"
        },
        "id": "JUAVIgnbX2Mb",
        "outputId": "2112b862-29bf-407a-dfb4-bf724d4a6826"
      },
      "execution_count": null,
      "outputs": [
        {
          "output_type": "stream",
          "name": "stdout",
          "text": [
            "Original:\n",
            "['Thor', 'Odin', 'Hela']\n",
            "List comprehension implementation:\n",
            "['Thor', 'Odin', 'Hela']\n"
          ]
        }
      ]
    },
    {
      "cell_type": "markdown",
      "source": [
        "Classes"
      ],
      "metadata": {
        "id": "LmLy4IlPEvHe"
      }
    },
    {
      "cell_type": "code",
      "source": [
        "class University:\n",
        "    def __init__(self,name,degree):\n",
        "        self.name=name\n",
        "        self.degree=degree\n",
        "    def method_test_1(self):\n",
        "        print(\"I have a Bachelors degree in \"+self.degree+\" from \"+self.name)\n",
        "\n",
        "class Military_ID:\n",
        "    def __init__(self,name,rank,id_number):\n",
        "        self.name=name\n",
        "        self.rank=rank\n",
        "        self.id_number=id_number\n",
        "    def identification(self):\n",
        "        print(\"Spartan: \"+self.rank+\" \"+self.name+\" \"+self.id_number)\n",
        "\n",
        "class KIA:\n",
        "    def __init__(self,bpm):\n",
        "        self.bpm=bpm\n",
        "    def alive_or_dead(self):\n",
        "        if self.bpm<=0:\n",
        "            print(\"Deceased\")\n",
        "        else:\n",
        "            print(\"Alive\")\n",
        "\n",
        "uni_class=University(\"Harbour Space\",\"Computer Science\")\n",
        "militay_class=Military_ID(\"John\",\"Master chief\",\"117\")\n",
        "status=KIA(75)\n",
        "status_2=KIA(0)\n",
        "\n",
        "uni_class.method_test_1()\n",
        "militay_class.identification()\n",
        "status.alive_or_dead()\n",
        "status_2.alive_or_dead()"
      ],
      "metadata": {
        "id": "jj4dZYDzEshu",
        "colab": {
          "base_uri": "https://localhost:8080/"
        },
        "outputId": "fedfaca7-2c30-4c56-d8e9-348b824cc697"
      },
      "execution_count": null,
      "outputs": [
        {
          "output_type": "stream",
          "name": "stdout",
          "text": [
            "I have a Bachelors degree in Computer Science from Harbour Space\n",
            "Spartan: Master chief John 117\n",
            "Alive\n",
            "Deceased\n"
          ]
        }
      ]
    },
    {
      "cell_type": "code",
      "source": [
        "class calculator:\n",
        "    def __init__(self,a,b):\n",
        "        self.a=a\n",
        "        self.b=b\n",
        "    def addition(self):\n",
        "        return self.a+self.b\n",
        "    def subtraction(self):\n",
        "        return self.a-self.b\n",
        "    def multiplication(self):\n",
        "        return self.a*self.b\n",
        "    def division_method_1(self):\n",
        "        return self.a/self.b\n",
        "    def division_method_2(self):\n",
        "        return self.a%self.b\n",
        "\n",
        "a=int(input(\"First value: \"))\n",
        "b=int(input(\"Second value: \"))\n",
        "calc=calculator(a,b)\n",
        "\n",
        "print(\"Subraction: \",calc.subtraction())\n",
        "print(\"Addition: \",calc.addition())\n",
        "print(\"Multiplication: \",calc.multiplication())\n",
        "print(\"Division method 1: \",calc.division_method_1())\n",
        "print(\"Division method 2: \",calc.division_method_2())\n",
        "\n"
      ],
      "metadata": {
        "colab": {
          "base_uri": "https://localhost:8080/"
        },
        "id": "cfCHqCNMsUub",
        "outputId": "822c4704-2cbf-436b-8742-8872389d7dbf"
      },
      "execution_count": null,
      "outputs": [
        {
          "output_type": "stream",
          "name": "stdout",
          "text": [
            "First value: 5\n",
            "Second value: 60\n",
            "Subraction:  -55\n",
            "Addition:  65\n",
            "Multiplication:  300\n",
            "Division method 1:  0.08333333333333333\n",
            "Division method 2:  5\n"
          ]
        }
      ]
    },
    {
      "cell_type": "code",
      "source": [
        "class weather_simulation:\n",
        "    def __init__(self,sea_level,temperature):\n",
        "        self.sea_level=sea_level\n",
        "        self.temperature=temperature\n",
        "    def sea_level_rise(self):\n",
        "        years=5\n",
        "        new_sea_level=self.sea_level+(0.5*years)\n",
        "        return new_sea_level\n",
        "    def temperature_rise(self):\n",
        "        years=5\n",
        "        increase=self.temperature+(0.05*years)\n",
        "        return increase\n",
        "\n",
        "simulation=weather_simulation(sea_level=5,temperature=0.5)\n",
        "print(\"Starting simulation...\")\n",
        "print(\"Sea level rise: \",simulation.sea_level_rise())\n",
        "print(\"Temperature rise: \",simulation.temperature_rise())\n",
        "print(\"Terminating simulation...\")"
      ],
      "metadata": {
        "colab": {
          "base_uri": "https://localhost:8080/"
        },
        "id": "vkT8qYs75Z2t",
        "outputId": "01bba116-bb67-40be-c19d-ab9d3c35e3e1"
      },
      "execution_count": null,
      "outputs": [
        {
          "output_type": "stream",
          "name": "stdout",
          "text": [
            "Starting simulation...\n",
            "Sea level rise:  7.5\n",
            "Temperature rise:  0.75\n",
            "Terminating simulation...\n"
          ]
        }
      ]
    },
    {
      "cell_type": "markdown",
      "source": [
        "Functions"
      ],
      "metadata": {
        "id": "ufZVGf7IBuQh"
      }
    },
    {
      "cell_type": "code",
      "source": [
        "def start_point():\n",
        "    print(\"May the games beguin\")\n",
        "\n",
        "def end_point():\n",
        "    print(\"Freedom has more value than any one individual can quantify\")\n",
        "    print(\"Signing off\")\n",
        "\n",
        "def loops_demo_001():\n",
        "    cycles=0\n",
        "    test_string=input(\"Input test string: \")\n",
        "    limit=int(input(\"Limit: \"))\n",
        "    squares=[]\n",
        "    cubes=[]\n",
        "    for i in range(limit+1):\n",
        "        squares.append(i*i)\n",
        "        cubes.append(i*i*i)\n",
        "        cycles+=1\n",
        "    print(\"Cycles: \",cycles)\n",
        "    print(\"Squared values: \",squares)\n",
        "    print(\"Cubed values: \",cubes)\n",
        "\n",
        "def loops_demo_002(start,end):\n",
        "    containment_1=[]\n",
        "    containment_2=[]\n",
        "    for i in range(start,end):\n",
        "        if i==2 or i==3 or i==5 or i==7:\n",
        "            containment_2.append(i)\n",
        "        if i%2==0 or i%3==0 or i%5==0 or i%7==0 or i%11==0:\n",
        "            containment_1.append(i)\n",
        "        else:\n",
        "            containment_2.append(i)\n",
        "    print(\"Not likely to be primes: \",containment_1)\n",
        "    print(\"Quantity of numbers not likely to be prime: \", len(containment_1))\n",
        "    print(\"Possible primes: \",containment_2)\n",
        "    print(\"Number of possible primes: \",len(containment_2))\n",
        "\n",
        "\n"
      ],
      "metadata": {
        "id": "PELF1EgfADZ_"
      },
      "execution_count": null,
      "outputs": []
    },
    {
      "cell_type": "markdown",
      "source": [
        "Functionality test for all functions"
      ],
      "metadata": {
        "id": "u8et283FBh2B"
      }
    },
    {
      "cell_type": "code",
      "source": [
        "string=input(\"What do you seek? \")\n",
        "if string==\"End\":\n",
        "    end_point()\n",
        "elif string==\"Start\":\n",
        "    start_point()\n",
        "elif string==\"Loop test 001\":\n",
        "    loops_demo_001()\n",
        "elif string==\"Loop test 002\":\n",
        "    start=int(input(\"Start number: \"))\n",
        "    end=int(input(\"End number: \"))\n",
        "    loops_demo_002(start,end)\n",
        "else:\n",
        "    print(\"Cannot assist you in what you seek.\")"
      ],
      "metadata": {
        "colab": {
          "base_uri": "https://localhost:8080/"
        },
        "id": "P548Jm-NA8Lu",
        "outputId": "eb53c888-8df4-4ec4-93f0-9c726696e488"
      },
      "execution_count": null,
      "outputs": [
        {
          "output_type": "stream",
          "name": "stdout",
          "text": [
            "What do you seek? Loop test 002\n",
            "Start number: 5\n",
            "End number: 100\n",
            "Not likely to be primes:  [5, 6, 7, 8, 9, 10, 11, 12, 14, 15, 16, 18, 20, 21, 22, 24, 25, 26, 27, 28, 30, 32, 33, 34, 35, 36, 38, 39, 40, 42, 44, 45, 46, 48, 49, 50, 51, 52, 54, 55, 56, 57, 58, 60, 62, 63, 64, 65, 66, 68, 69, 70, 72, 74, 75, 76, 77, 78, 80, 81, 82, 84, 85, 86, 87, 88, 90, 91, 92, 93, 94, 95, 96, 98, 99]\n",
            "Quantity of numbers not likely to be prime:  75\n",
            "Possible primes:  [5, 7, 13, 17, 19, 23, 29, 31, 37, 41, 43, 47, 53, 59, 61, 67, 71, 73, 79, 83, 89, 97]\n",
            "Number of possible primes:  22\n"
          ]
        }
      ]
    },
    {
      "cell_type": "code",
      "source": [
        ""
      ],
      "metadata": {
        "colab": {
          "base_uri": "https://localhost:8080/"
        },
        "id": "VZ5dBENxKFcL",
        "outputId": "5d0aac3f-2451-4eaf-a643-0f2acaff62da"
      },
      "execution_count": null,
      "outputs": [
        {
          "output_type": "stream",
          "name": "stdout",
          "text": [
            "Make your choice: 1\n",
            "Bomb 1\n",
            "Proccessing\n",
            "[0, 1, 2, 3, 4, 5, 6, 7, 8, 9, 10, 11, 12, 13, 14, 15, 16, 17, 18, 19, 20, 21, 22, 23, 24, 25, 26, 27, 28, 29, 30, 31, 32, 33, 34, 35, 36, 37, 38, 39, 40, 41, 42, 43, 44, 45, 46, 47, 48, 49, 50, 51, 52, 53, 54, 55, 56, 57, 58, 59, 60, 61, 62, 63, 64, 65, 66, 67, 68, 69, 70, 71, 72, 73, 74, 75, 76, 77, 78, 79, 80, 81, 82, 83, 84, 85, 86, 87, 88, 89, 90, 91, 92, 93, 94, 95, 96, 97, 98, 99, 100]\n",
            "[0, 1, 4, 9, 16, 25, 36, 49, 64, 81, 100, 121, 144, 169, 196, 225, 256, 289, 324, 361, 400, 441, 484, 529, 576, 625, 676, 729, 784, 841, 900, 961, 1024, 1089, 1156, 1225, 1296, 1369, 1444, 1521, 1600, 1681, 1764, 1849, 1936, 2025, 2116, 2209, 2304, 2401, 2500, 2601, 2704, 2809, 2916, 3025, 3136, 3249, 3364, 3481, 3600, 3721, 3844, 3969, 4096, 4225, 4356, 4489, 4624, 4761, 4900, 5041, 5184, 5329, 5476, 5625, 5776, 5929, 6084, 6241, 6400, 6561, 6724, 6889, 7056, 7225, 7396, 7569, 7744, 7921, 8100, 8281, 8464, 8649, 8836, 9025, 9216, 9409, 9604, 9801, 10000]\n",
            "Proccess complete\n"
          ]
        }
      ]
    },
    {
      "cell_type": "markdown",
      "source": [
        "Lambda"
      ],
      "metadata": {
        "id": "N5ZtvK_OXoJ5"
      }
    },
    {
      "cell_type": "code",
      "source": [
        "def lambda_test1():\n",
        "    print(\"Lambda test 1\")\n",
        "    test_data_1=int(input(\"Test data 1: \"))\n",
        "    test_data_2=int(input(\"Test data 2: \"))\n",
        "    x=lambda a : a*a\n",
        "    y=lambda b : b*b*b \n",
        "    print(x(test_data_1))\n",
        "    print(y(test_data_2))\n",
        "    print(\"End of lambda test 1\")\n",
        "\n",
        "def lambda_test2():\n",
        "    print(\"Lambda test 2\")\n",
        "    test2_data_1=int(input(\"Data 1: \"))\n",
        "    x=lambda a : a*1000\n",
        "    print(x(test2_data_1))\n",
        "    test2_data_2=int(input(\"Data 2: \"))\n",
        "    y=lambda b : 5+b*3000\n",
        "    print(y(test2_data_2))\n",
        "    print(\"End of lambda test 2\")\n"
      ],
      "metadata": {
        "id": "KjlT6L3UXpdT"
      },
      "execution_count": null,
      "outputs": []
    },
    {
      "cell_type": "code",
      "source": [
        "lambda_test1()\n",
        "lambda_test2()"
      ],
      "metadata": {
        "colab": {
          "base_uri": "https://localhost:8080/"
        },
        "id": "5B4OLMTNX5ix",
        "outputId": "ebd1ab38-9f35-418f-e051-1be0e3e52982"
      },
      "execution_count": null,
      "outputs": [
        {
          "output_type": "stream",
          "name": "stdout",
          "text": [
            "Lambda test 1\n",
            "Test data 1: 5\n",
            "Test data 2: 5\n",
            "25\n",
            "125\n",
            "End of lambda test 1\n",
            "Lambda test 2\n",
            "Data 1: 5\n",
            "5000\n",
            "Data 2: 5\n",
            "15005\n",
            "End of lambda test 2\n"
          ]
        }
      ]
    },
    {
      "cell_type": "markdown",
      "source": [
        "Iterators"
      ],
      "metadata": {
        "id": "3UbQkYGObMpw"
      }
    },
    {
      "cell_type": "code",
      "source": [
        "class iterator_test_001():\n",
        "    def __iter__(self):"
      ],
      "metadata": {
        "id": "8p5i5yeDbPKe"
      },
      "execution_count": null,
      "outputs": []
    },
    {
      "cell_type": "code",
      "source": [
        "class MyNumbers:\n",
        "  def __iter__(self):\n",
        "    self.a = 1\n",
        "    return self\n",
        "\n",
        "  def __next__(self):\n",
        "    x = self.a\n",
        "    self.a += 1\n",
        "    return x"
      ],
      "metadata": {
        "id": "5rsi9lifbbO3"
      },
      "execution_count": null,
      "outputs": []
    },
    {
      "cell_type": "code",
      "source": [
        "#First iterator\n",
        "class Squares:\n",
        "  def __iter__(self):\n",
        "    self.a = 0\n",
        "    return self\n",
        "\n",
        "  def __next__(self):\n",
        "    x = self.a\n",
        "    self.a += 1\n",
        "    return x*x\n",
        "\n",
        "#Second iterator\n",
        "class cubes:\n",
        "  def __iter__(self):\n",
        "    self.a = 0\n",
        "    return self\n",
        "\n",
        "  def __next__(self):\n",
        "    x = self.a\n",
        "    self.a += 1\n",
        "    return x*x*x\n",
        "\n",
        "test_class_1=Squares()\n",
        "test_class_2=cubes()\n",
        "myiter=iter(test_class_1)\n",
        "myiter_2=iter(test_class_2)\n",
        "\n",
        "\n",
        "\n",
        "\n",
        "def printer():\n",
        "  iterable_1=[]\n",
        "  for i in range(10):\n",
        "    iterable_1.append(next(myiter))\n",
        "  print(iterable_1)\n",
        "  print(len(iterable_1))\n",
        "  iterable_2=[]\n",
        "  for i in range(10):\n",
        "    iterable_2.append(next(myiter_2))\n",
        "  print(iterable_2)\n",
        "  print(len(iterable_2))\n",
        "\n",
        "printer()"
      ],
      "metadata": {
        "id": "EQub1VILd27q"
      },
      "execution_count": null,
      "outputs": []
    },
    {
      "cell_type": "markdown",
      "source": [
        "Try,except"
      ],
      "metadata": {
        "id": "gx2TuzTOb8Jr"
      }
    },
    {
      "cell_type": "code",
      "source": [
        "def failure_expectation_test():\n",
        "    try:\n",
        "        print(\"Expected failure...\")\n",
        "        test_list=[0,1,2,3,4,5]\n",
        "        print(test_list[8])\n",
        "    except:\n",
        "        print(\"An error has occured\")\n",
        "        print(\"No surprise\")\n",
        "\n",
        "\n",
        "def success_expectation_test():\n",
        "    try:\n",
        "        print(\"Expected success...\")\n",
        "        test_list=[0,1,2,3,4,5]\n",
        "        print(test_list[4])\n",
        "        print(\"No surprise\")\n",
        "    except:\n",
        "        print(\"An error has occured\")\n",
        "\n",
        "def advanced_supression_V1():\n",
        "    try:\n",
        "        complied_data_1=[]\n",
        "        complied_data_2=[]\n",
        "        complied_data_3=[]\n",
        "        complied_data_4=[]\n",
        "        for i in range(100+1):\n",
        "            if i%3==0:\n",
        "                complied_data_1.append(i)\n",
        "            elif i%2==0:\n",
        "                complied_data_2.append(i)\n",
        "            elif i%13==0:\n",
        "                complied_data_3.append(i)\n",
        "            else:\n",
        "                complied_data_4.append(i)\n",
        "        print(complied_data_1)\n",
        "        print(complied_data_2)\n",
        "        print(complied_data_3)\n",
        "        print(complied_data_4)\n",
        "    except:\n",
        "        print(\"Error has occured.\")\n",
        "    else:\n",
        "        print(\"Nothing to report\")\n",
        "\n",
        "def advanced_supression_V2():\n",
        "    try:\n",
        "        complied_data_1=[]\n",
        "        complied_data_2=[]\n",
        "        complied_data_3=[]\n",
        "        complied_data_4=[]\n",
        "        for i in range(100+1):\n",
        "            if i%3==0:\n",
        "                complied_data_1.append(i)\n",
        "            elif i%2==0:\n",
        "                complied_data_2.append(i)\n",
        "            elif i%13==0:\n",
        "                complied_data_3.append(i)\n",
        "            else:\n",
        "                complied_data_4.append(i)\n",
        "        print(complied_data_1[145])\n",
        "    except:\n",
        "        print(\"Something went wrong\")\n",
        "    else:\n",
        "        print(\"Nothing went wrong\")\n",
        "\n",
        "designator=int(input(\"Make your choice: \"))\n",
        "if designator==1:\n",
        "    failure_expectation_test()\n",
        "elif designator==2:\n",
        "    advanced_supression_V1()\n",
        "elif designator==3:\n",
        "    advanced_supression_V2()\n",
        "else:\n",
        "    success_expectation_test()"
      ],
      "metadata": {
        "colab": {
          "base_uri": "https://localhost:8080/"
        },
        "id": "d7dq9HTLb_TW",
        "outputId": "5fccb1e7-636d-49b0-dcca-4e6bc88e6433"
      },
      "execution_count": null,
      "outputs": [
        {
          "output_type": "stream",
          "name": "stdout",
          "text": [
            "Make your choice: 3\n",
            "Something went wrong\n"
          ]
        }
      ]
    },
    {
      "cell_type": "markdown",
      "source": [
        "Decorators"
      ],
      "metadata": {
        "id": "e3f_S7ihlJ9A"
      }
    },
    {
      "cell_type": "code",
      "source": [
        "def field_test_1(func):\n",
        "    def exo_skeleton(*args, **kwargs):\n",
        "        print(\"before Execution\")\n",
        "        # getting the returned value\n",
        "        returned_value = func(*args, **kwargs)\n",
        "        print(\"after Execution\")\n",
        "        # returning the value to the original frame\n",
        "        return returned_value\n",
        "    return exo_skeleton\n",
        "\n",
        "\n",
        "\n",
        "# adding decorator to the function\n",
        "@field_test_1\n",
        "def multiple_of_two_numbers(a, b):\n",
        "    print(\"Internal function detected.\")\n",
        "    return a * b\n",
        "@field_test_1\n",
        "def lyrics():\n",
        "    return \"Nothing could stop us. We will make it till the end.\"\n",
        "a, b = 1, 2\n",
        "# getting the value through return of the function\n",
        "print(\"Field test 1 outputs\")\n",
        "print(\"Multiple =\", multiple_of_two_numbers(a, b))\n",
        "print(\"Lyrics: \",lyrics())\n",
        "\n",
        "@field_test_2\n",
        "def Zone911A():\n",
        "    test_string=\"$=y the %=m&s b&%in\"\n",
        "    allocation=[]\n",
        "    string_convert=\"\"\n",
        "    for i in test_string:\n",
        "        for j in i:\n",
        "            if j==\"=\":\n",
        "                allocation.append(\"a\")\n",
        "            elif j==\"&\":\n",
        "                allocation.append(\"e\")\n",
        "            elif j==\"%\":\n",
        "                allocation.append(\"g\")\n",
        "            elif j==\"$\":\n",
        "                allocation.append(\"M\")\n",
        "            else:\n",
        "                allocation.append(j)\n",
        "    for i in allocation:\n",
        "        string_convert+=i\n",
        "    return string_convert\n",
        "\n",
        "@field_test_2\n",
        "def Zone4546B():\n",
        "    test_string=\"!0kk5 &kri? 788?s %=5\"\n",
        "    converted=[]\n",
        "    for i in test_string:\n",
        "        for j in i:\n",
        "            if j==\"k\":\n",
        "                converted.append(\"p\")\n",
        "            elif j==\"8\":\n",
        "                converted.append(\"o\")\n",
        "            elif j==\"=\":\n",
        "                converted.append(\"a\")\n",
        "            elif j==\"5\":\n",
        "                converted.append(\"y\")\n",
        "            elif j==\"7\":\n",
        "                converted.append(\"F\")\n",
        "            elif j==\"&\":\n",
        "                converted.append(\"A\")\n",
        "            elif j==\"0\":\n",
        "                converted.append(\"a\")\n",
        "            elif j==\"?\":\n",
        "                converted.append(\"l\")\n",
        "            elif j==\"%\":\n",
        "                converted.append(\"D\")\n",
        "            elif j==\"!\":\n",
        "                converted.append(\"H\")\n",
        "            else:\n",
        "                converted.append(j)\n",
        "    string_coded=\"\"\n",
        "    for i in converted:\n",
        "        string_coded+=i\n",
        "    return string_coded\n",
        "\n",
        "print(\"Field test 2 outputs\")\n",
        "print(\"Function 1: \",Zone911A())\n",
        "print(\"Function 2: \",Zone4546B())\n",
        "\n",
        "\n"
      ],
      "metadata": {
        "colab": {
          "base_uri": "https://localhost:8080/"
        },
        "id": "4b3jvVkwlJRh",
        "outputId": "f55965e9-1a8b-4a39-b48b-17327d101482"
      },
      "execution_count": null,
      "outputs": [
        {
          "output_type": "stream",
          "name": "stdout",
          "text": [
            "Field test 1 outputs\n",
            "before Execution\n",
            "Internal function detected.\n",
            "after Execution\n",
            "Multiple = 2\n",
            "before Execution\n",
            "after Execution\n",
            "Lyrics:  Nothing could stop us. We will make it till the end.\n",
            "Field test 2 outputs\n",
            "Execution in progress...\n",
            "Successful execution\n",
            "Function 1:  May the games begin\n",
            "Execution in progress...\n",
            "Successful execution\n",
            "Function 2:  Happy April Fools Day\n"
          ]
        }
      ]
    },
    {
      "cell_type": "code",
      "source": [
        "def field_test_2(func):\n",
        "    def exo_skeleton(*args,**kwargs):\n",
        "        outcome=func(*args,**kwargs)\n",
        "        print(\"Successful execution\")\n",
        "        return outcome\n",
        "    return exo_skeleton\n",
        "\n",
        "@field_test_2\n",
        "def Zone911A():\n",
        "    test_string=\"$=y the %=m&s b&%in\"\n",
        "    allocation=[]\n",
        "    string_convert=\"\"\n",
        "    for i in test_string:\n",
        "        for j in i:\n",
        "            if j==\"=\":\n",
        "                allocation.append(\"a\")\n",
        "            elif j==\"&\":\n",
        "                allocation.append(\"e\")\n",
        "            elif j==\"%\":\n",
        "                allocation.append(\"g\")\n",
        "            elif j==\"$\":\n",
        "                allocation.append(\"M\")\n",
        "            else:\n",
        "                allocation.append(j)\n",
        "    for i in allocation:\n",
        "        string_convert+=i\n",
        "    return string_convert\n",
        "\n",
        "@field_test_2\n",
        "def Zone4546B():\n",
        "    test_string=\"!0kk5 &kri? 788?s %=5\"\n",
        "    converted=[]\n",
        "    for i in test_string:\n",
        "        for j in i:\n",
        "            if j==\"k\":\n",
        "                converted.append(\"p\")\n",
        "            elif j==\"8\":\n",
        "                converted.append(\"o\")\n",
        "            elif j==\"=\":\n",
        "                converted.append(\"a\")\n",
        "            elif j==\"5\":\n",
        "                converted.append(\"y\")\n",
        "            elif j==\"7\":\n",
        "                converted.append(\"F\")\n",
        "            elif j==\"&\":\n",
        "                converted.append(\"A\")\n",
        "            elif j==\"0\":\n",
        "                converted.append(\"a\")\n",
        "            elif j==\"?\":\n",
        "                converted.append(\"l\")\n",
        "            elif j==\"%\":\n",
        "                converted.append(\"D\")\n",
        "            elif j==\"!\":\n",
        "                converted.append(\"H\")\n",
        "            else:\n",
        "                converted.append(j)\n",
        "    string_coded=\"\"\n",
        "    for i in converted:\n",
        "        string_coded+=i\n",
        "    return string_coded\n",
        "\n",
        "print(\"Field test 2 outputs\")\n",
        "print(\"Function 1: \",Zone911A())\n",
        "print(\"Function 2: \",Zone4546B())"
      ],
      "metadata": {
        "colab": {
          "base_uri": "https://localhost:8080/"
        },
        "id": "AraBfkrw6s8f",
        "outputId": "8d85e8aa-b572-4e1b-c5b9-52972d3af123"
      },
      "execution_count": null,
      "outputs": [
        {
          "output_type": "stream",
          "name": "stdout",
          "text": [
            "Field test 2 outputs\n",
            "Successful execution\n",
            "Function 1:  May the games begin\n",
            "Successful execution\n",
            "Function 2:  Happy April Fools Day\n"
          ]
        }
      ]
    },
    {
      "cell_type": "markdown",
      "source": [
        "Generators"
      ],
      "metadata": {
        "id": "ZADIsc8m13T7"
      }
    },
    {
      "cell_type": "code",
      "source": [
        "def test_generator():\n",
        "    yield 1\n",
        "    yield 2\n",
        "    yield 3\n",
        "\n",
        "x=test_generator()\n",
        "print(x.__next__())\n",
        "print(x.__next__())\n",
        "print(x.__next__())"
      ],
      "metadata": {
        "colab": {
          "base_uri": "https://localhost:8080/"
        },
        "id": "xAoRFLBI143k",
        "outputId": "4d30c2d5-4173-4d3c-9a14-f307c6b55d13"
      },
      "execution_count": null,
      "outputs": [
        {
          "output_type": "stream",
          "name": "stdout",
          "text": [
            "1\n",
            "2\n",
            "3\n"
          ]
        }
      ]
    },
    {
      "cell_type": "code",
      "source": [
        "def squares(limit):\n",
        "    a=1\n",
        "    while a<=limit:\n",
        "        yield a*a\n",
        "        a+=1\n",
        "\n",
        "def caller():\n",
        "    limit=int(input(\"Place limit: \"))\n",
        "    func=squares(limit)\n",
        "    for i in range(limit):\n",
        "        print(\"Element \",i,\":\")\n",
        "        print(func.__next__())\n",
        "\n",
        "caller()"
      ],
      "metadata": {
        "colab": {
          "base_uri": "https://localhost:8080/"
        },
        "id": "Po8UKzEa3y28",
        "outputId": "3a26f64f-d130-4f07-cc7b-5cb215a3b838"
      },
      "execution_count": null,
      "outputs": [
        {
          "output_type": "stream",
          "name": "stdout",
          "text": [
            "Place limit: 100\n",
            "Element  0 :\n",
            "1\n",
            "Element  1 :\n",
            "4\n",
            "Element  2 :\n",
            "9\n",
            "Element  3 :\n",
            "16\n",
            "Element  4 :\n",
            "25\n",
            "Element  5 :\n",
            "36\n",
            "Element  6 :\n",
            "49\n",
            "Element  7 :\n",
            "64\n",
            "Element  8 :\n",
            "81\n",
            "Element  9 :\n",
            "100\n",
            "Element  10 :\n",
            "121\n",
            "Element  11 :\n",
            "144\n",
            "Element  12 :\n",
            "169\n",
            "Element  13 :\n",
            "196\n",
            "Element  14 :\n",
            "225\n",
            "Element  15 :\n",
            "256\n",
            "Element  16 :\n",
            "289\n",
            "Element  17 :\n",
            "324\n",
            "Element  18 :\n",
            "361\n",
            "Element  19 :\n",
            "400\n",
            "Element  20 :\n",
            "441\n",
            "Element  21 :\n",
            "484\n",
            "Element  22 :\n",
            "529\n",
            "Element  23 :\n",
            "576\n",
            "Element  24 :\n",
            "625\n",
            "Element  25 :\n",
            "676\n",
            "Element  26 :\n",
            "729\n",
            "Element  27 :\n",
            "784\n",
            "Element  28 :\n",
            "841\n",
            "Element  29 :\n",
            "900\n",
            "Element  30 :\n",
            "961\n",
            "Element  31 :\n",
            "1024\n",
            "Element  32 :\n",
            "1089\n",
            "Element  33 :\n",
            "1156\n",
            "Element  34 :\n",
            "1225\n",
            "Element  35 :\n",
            "1296\n",
            "Element  36 :\n",
            "1369\n",
            "Element  37 :\n",
            "1444\n",
            "Element  38 :\n",
            "1521\n",
            "Element  39 :\n",
            "1600\n",
            "Element  40 :\n",
            "1681\n",
            "Element  41 :\n",
            "1764\n",
            "Element  42 :\n",
            "1849\n",
            "Element  43 :\n",
            "1936\n",
            "Element  44 :\n",
            "2025\n",
            "Element  45 :\n",
            "2116\n",
            "Element  46 :\n",
            "2209\n",
            "Element  47 :\n",
            "2304\n",
            "Element  48 :\n",
            "2401\n",
            "Element  49 :\n",
            "2500\n",
            "Element  50 :\n",
            "2601\n",
            "Element  51 :\n",
            "2704\n",
            "Element  52 :\n",
            "2809\n",
            "Element  53 :\n",
            "2916\n",
            "Element  54 :\n",
            "3025\n",
            "Element  55 :\n",
            "3136\n",
            "Element  56 :\n",
            "3249\n",
            "Element  57 :\n",
            "3364\n",
            "Element  58 :\n",
            "3481\n",
            "Element  59 :\n",
            "3600\n",
            "Element  60 :\n",
            "3721\n",
            "Element  61 :\n",
            "3844\n",
            "Element  62 :\n",
            "3969\n",
            "Element  63 :\n",
            "4096\n",
            "Element  64 :\n",
            "4225\n",
            "Element  65 :\n",
            "4356\n",
            "Element  66 :\n",
            "4489\n",
            "Element  67 :\n",
            "4624\n",
            "Element  68 :\n",
            "4761\n",
            "Element  69 :\n",
            "4900\n",
            "Element  70 :\n",
            "5041\n",
            "Element  71 :\n",
            "5184\n",
            "Element  72 :\n",
            "5329\n",
            "Element  73 :\n",
            "5476\n",
            "Element  74 :\n",
            "5625\n",
            "Element  75 :\n",
            "5776\n",
            "Element  76 :\n",
            "5929\n",
            "Element  77 :\n",
            "6084\n",
            "Element  78 :\n",
            "6241\n",
            "Element  79 :\n",
            "6400\n",
            "Element  80 :\n",
            "6561\n",
            "Element  81 :\n",
            "6724\n",
            "Element  82 :\n",
            "6889\n",
            "Element  83 :\n",
            "7056\n",
            "Element  84 :\n",
            "7225\n",
            "Element  85 :\n",
            "7396\n",
            "Element  86 :\n",
            "7569\n",
            "Element  87 :\n",
            "7744\n",
            "Element  88 :\n",
            "7921\n",
            "Element  89 :\n",
            "8100\n",
            "Element  90 :\n",
            "8281\n",
            "Element  91 :\n",
            "8464\n",
            "Element  92 :\n",
            "8649\n",
            "Element  93 :\n",
            "8836\n",
            "Element  94 :\n",
            "9025\n",
            "Element  95 :\n",
            "9216\n",
            "Element  96 :\n",
            "9409\n",
            "Element  97 :\n",
            "9604\n",
            "Element  98 :\n",
            "9801\n",
            "Element  99 :\n",
            "10000\n"
          ]
        }
      ]
    },
    {
      "cell_type": "markdown",
      "source": [
        "Inheritence"
      ],
      "metadata": {
        "id": "jMM_QQlWuftO"
      }
    },
    {
      "cell_type": "code",
      "source": [
        "#parent class\n",
        "class layer_1:\n",
        "    def __init__(self,status):\n",
        "        self.status=status\n",
        "    def print_status(self):\n",
        "        print(self.status)\n",
        "\n",
        "l1=layer_1(\"Great\")\n",
        "l1.print_status()\n",
        "\n",
        "#Child class\n",
        "class layer_2(layer_1):\n",
        "    pass #I dont plan on addint any proporties to this"
      ],
      "metadata": {
        "id": "UHtDwjlluc09"
      },
      "execution_count": null,
      "outputs": []
    },
    {
      "cell_type": "code",
      "source": [
        "#parent class\n",
        "class layer_1:\n",
        "    def __init__(self,status):\n",
        "        self.status=status\n",
        "    def print_status(self):\n",
        "        print(\"Layer 1\")\n",
        "        print(self.status)\n",
        "\n",
        "l1=layer_1(\"Great\")\n",
        "l1.print_status()\n",
        "\n",
        "#Child class\n",
        "class layer_2(layer_1):\n",
        "    def __init__(self,status):\n",
        "        self.status=status\n",
        "    def status_analysis(self):\n",
        "        print(\"Layer 2\")\n",
        "        print(\"I feel \",self.status)\n",
        "\n",
        "l2=layer_2(\"Great\")\n",
        "l2.status_analysis()\n"
      ],
      "metadata": {
        "colab": {
          "base_uri": "https://localhost:8080/"
        },
        "id": "ZaaWW957ukvb",
        "outputId": "89defd7e-fc05-4323-cd4a-4064952a3f57"
      },
      "execution_count": null,
      "outputs": [
        {
          "output_type": "stream",
          "name": "stdout",
          "text": [
            "Layer 1\n",
            "Great\n",
            "Layer 2\n",
            "I feel  Great\n"
          ]
        }
      ]
    }
  ]
}